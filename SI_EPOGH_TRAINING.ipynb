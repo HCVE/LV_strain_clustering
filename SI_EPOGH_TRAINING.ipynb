{
 "cells": [
  {
   "cell_type": "code",
   "execution_count": null,
   "outputs": [],
   "source": [
    "# Step 1: Import Libraries\n",
    "\n",
    "from pathlib import Path\n",
    "from piecewise import *\n",
    "import pickle"
   ],
   "metadata": {
    "collapsed": false
   }
  },
  {
   "cell_type": "code",
   "execution_count": null,
   "outputs": [],
   "source": [
    "# Step 2: Define data paths\n",
    "\n",
    "parent_folder = os.path.join(*Path(os.getcwd()).parts[:-2], \"LV Strain Curves\")\n",
    "data_path = os.path.join(parent_folder, \"Data/EPOGH/Strain curves (Filtered)\")\n",
    "save_data_path = os.path.join(parent_folder, \"Results/Summary Index/GMM/EPOGH/\")\n",
    "\n",
    "# create save_data_path directory if not exist\n",
    "if not os.path.exists(save_data_path):\n",
    "    os.makedirs(save_data_path)\n",
    "\n",
    "avc_files = [\"Data/EPOGH/EPOGH_AVC.xlsx\"]"
   ],
   "metadata": {
    "collapsed": false
   }
  },
  {
   "cell_type": "code",
   "execution_count": null,
   "outputs": [],
   "source": [
    "# Step 3: Load the data\n",
    "\n",
    "original_data, data, patient_id, interval = ld.read_data(data_path)\n",
    "excluded_patients1, avc_times = ld.read_avc_time(parent_folder, avc_files)\n",
    "excluded_patients2 = []\n",
    "p_wave_times = pd.DataFrame(columns=[\"ID\", \"PQ Interval\", \"P duration (ms)\"])\n",
    "\n",
    "original_data, data, patient_id, interval = exclude_patients(excluded_patients1, excluded_patients2, original_data,\n",
    "                                                             data, patient_id, interval)\n",
    "decision = \"peak\"\n",
    "reference_patient_id = \"110101\"\n",
    "_, deformation, _, _, reference_time = get_aligned_signals(original_data, decision, interval, patient_id,\n",
    "                                                           reference_patient_id, avc_times, p_wave_times)\n",
    "\n",
    "deformation = np.array(deformation)\n",
    "patient_id = np.array(patient_id)"
   ],
   "metadata": {
    "collapsed": false
   }
  },
  {
   "cell_type": "code",
   "execution_count": null,
   "outputs": [],
   "source": [
    "# Step 4a: Extract the desired features\n",
    "\n",
    "extracted_features = extract_time_series_features(reference_time, deformation, patient_id, save_data_path,\n",
    "                                                  do_plot=False)\n",
    "\n",
    "training_data = {\"peak\": extracted_features[\"Peak\"],\n",
    "                 \"peak_slopes\": extracted_features[[\"Systolic Slope\", \"Diastolic Slope\",\"Peak\"]],\n",
    "                 \"all\":extracted_features}"
   ],
   "metadata": {
    "collapsed": false
   }
  },
  {
   "cell_type": "code",
   "execution_count": null,
   "outputs": [],
   "source": [
    "# Step 4b: Select the desired feature-set\n",
    "\n",
    "select_features = \"all\"\n",
    "save_data_path = os.path.join(save_data_path, select_features)\n",
    "if not os.path.exists(save_data_path):\n",
    "    os.makedirs(save_data_path)"
   ],
   "metadata": {
    "collapsed": false
   }
  },
  {
   "cell_type": "code",
   "execution_count": null,
   "outputs": [],
   "source": [
    "# Step 5: Load the trained Gaussian Mixture Model\n",
    "\n",
    "clustering_model = pickle.load(open(os.path.join(save_data_path,\"gmm_model.pkl\"), 'rb'))\n",
    "clusters = clustering_model.predict(training_data[select_features])\n",
    "representative_centers = np.array(produce_centroids(clusters, deformation))"
   ],
   "metadata": {
    "collapsed": false
   }
  },
  {
   "cell_type": "code",
   "execution_count": null,
   "outputs": [],
   "source": [
    "# Step 6: Plot the results in EPOGH cohort\n",
    "\n",
    "cluster_labels = {0:3, 1:4, 2:2, 3:1}\n",
    "cluster_colours = {0:\"blueviolet\", 1:\"red\", 2:\"blue\", 3:\"green\", 4:\"blueviolet\"}\n",
    "patient_id = patient_id.tolist()\n",
    "# groups the patients' ids per cluster. Returns a list\n",
    "clustered_id = analyze_patient(clusters, patient_id)\n",
    "\n",
    "# writes an excel file with the patient's ID and its assigned cluster label\n",
    "write2excel(clusters, patient_id, save_data_path, cluster_labels)\n",
    "\n",
    "# plots the strain traces grouped per cluster with Matplotlib and plotly. Matplotlib produces png and svg files.\n",
    "visualize_clustering_results(reference_time, deformation, clustered_id, clusters, patient_id, representative_centers,\n",
    "                             save_data_path, cluster_labels=cluster_labels, cluster_colours=cluster_colours)\n",
    "\n",
    "# plot the first three principal components of the strain curves\n",
    "plot_pca(clusters, deformation, patient_id, save_data_path, cluster_labels=cluster_labels,\n",
    "         cluster_colours=cluster_colours)\n",
    "\n",
    "# plots the gradient of the Strain traces with Matplotlib and plotly.\n",
    "plot_gradients(deformation, reference_time, clusters, clustered_id,patient_id, save_data_path,\n",
    "               cluster_labels=cluster_labels, cluster_colours=cluster_colours)"
   ],
   "metadata": {
    "collapsed": false
   }
  }
 ],
 "metadata": {
  "kernelspec": {
   "display_name": "Python 3",
   "language": "python",
   "name": "python3"
  },
  "language_info": {
   "codemirror_mode": {
    "name": "ipython",
    "version": 2
   },
   "file_extension": ".py",
   "mimetype": "text/x-python",
   "name": "python",
   "nbconvert_exporter": "python",
   "pygments_lexer": "ipython2",
   "version": "2.7.6"
  }
 },
 "nbformat": 4,
 "nbformat_minor": 0
}
